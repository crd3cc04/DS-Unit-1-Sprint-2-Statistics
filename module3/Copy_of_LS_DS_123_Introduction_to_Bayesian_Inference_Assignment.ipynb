{
  "nbformat": 4,
  "nbformat_minor": 0,
  "metadata": {
    "colab": {
      "name": "Copy of LS_DS_123_Introduction_to_Bayesian_Inference_Assignment.ipynb",
      "provenance": [],
      "collapsed_sections": [],
      "include_colab_link": true
    },
    "kernelspec": {
      "name": "python3",
      "display_name": "Python 3"
    }
  },
  "cells": [
    {
      "cell_type": "markdown",
      "metadata": {
        "id": "view-in-github",
        "colab_type": "text"
      },
      "source": [
        "<a href=\"https://colab.research.google.com/github/crd3cc04/DS-Unit-1-Sprint-2-Statistics/blob/master/module3/Copy_of_LS_DS_123_Introduction_to_Bayesian_Inference_Assignment.ipynb\" target=\"_parent\"><img src=\"https://colab.research.google.com/assets/colab-badge.svg\" alt=\"Open In Colab\"/></a>"
      ]
    },
    {
      "cell_type": "markdown",
      "metadata": {
        "id": "H7OLbevlbd_Z",
        "colab_type": "text"
      },
      "source": [
        "# Lambda School Data Science Module 123\n",
        "\n",
        "## Introduction to Bayesian Inference\n",
        "\n",
        "\n"
      ]
    },
    {
      "cell_type": "markdown",
      "metadata": {
        "id": "P-DzzRk5bf0z",
        "colab_type": "text"
      },
      "source": [
        "## Assignment - Code it up!\n",
        "\n",
        "We used pure math to apply Bayes Theorem to drug tests. Now write Python code to reproduce the results! This is purposefully open ended - you'll have to think about how you should represent probabilities and events. You can and should look things up.\n",
        "\n",
        "Specific goals/targets:\n",
        "\n",
        "### 1) Write a function \n",
        "\n",
        "`def prob_drunk_given_positive(prob_drunk_prior, false_positive_rate):` \n",
        "\n",
        "You should only truly need these two values in order to apply Bayes Theorem. In this example, imagine that individuals are taking a breathalyzer test with an 8% false positive rate, a 100% true positive rate, and that our prior belief about drunk driving in the population is 1/1000. \n",
        " - What is the probability that a person is drunk after one positive breathalyzer test?\n",
        " - What is the probability that a person is drunk after two positive breathalyzer tests?\n",
        " - How many positive breathalyzer tests are needed in order to have a probability that's greater than 95% that a person is drunk beyond the legal limit?\n",
        "\n",
        "### 2) Explore `scipy.stats.bayes_mvs`  \n",
        "Read its documentation, and experiment with it on data you've tested in other ways earlier this week.\n",
        " - Create a visualization comparing the results of a Bayesian approach to a traditional/frequentist approach. (with a large sample size they should look close to identical, however, take this opportunity to practice visualizing condfidence intervals in general. The following are some potential ways that you could visualize confidence intervals on your graph:\n",
        "  - [Matplotlib Error Bars](https://matplotlib.org/3.1.1/api/_as_gen/matplotlib.pyplot.errorbar.html)\n",
        "  - [Seaborn barplot with error bars](https://seaborn.pydata.org/generated/seaborn.barplot.html)\n",
        "  - [Vertical ines to show bounds of confidence interval](https://www.simplypsychology.org/confidence-interval.jpg)\n",
        "  - [Confidence Intervals on Box Plots](https://matplotlib.org/3.1.1/api/_as_gen/matplotlib.axes.Axes.boxplot.html)\n",
        "\n",
        "### 3) In your own words, summarize the difference between Bayesian and Frequentist statistics\n",
        "\n",
        "If you're unsure where to start, check out [this blog post of Bayes theorem with Python](https://dataconomy.com/2015/02/introduction-to-bayes-theorem-with-python/).\n",
        "\n"
      ]
    },
    {
      "cell_type": "code",
      "metadata": {
        "id": "xpVhZyUnbf7o",
        "colab_type": "code",
        "colab": {}
      },
      "source": [
        "# TODO - code!\n",
        "import pandas as pd\n",
        "import numpy as np\n",
        "\n",
        "P_driver=1/1000\n",
        "P_non_driver=1-P_driver\n",
        "P_pos_given_driver= 1\n",
        "P_pos_given_nondriver=.08"
      ],
      "execution_count": 0,
      "outputs": []
    },
    {
      "cell_type": "code",
      "metadata": {
        "id": "Z_6gAbgW5drL",
        "colab_type": "code",
        "colab": {
          "base_uri": "https://localhost:8080/",
          "height": 34
        },
        "outputId": "ae99ff10-eec9-4e68-bce0-f4883efb6192"
      },
      "source": [
        "# First breathalyzer\n",
        "num = P_pos_given_driver * P_driver\n",
        "den = (P_pos_given_driver * P_driver) + (P_pos_given_nondriver * P_non_driver)\n",
        "prior1=num/den\n",
        "print(prior1)"
      ],
      "execution_count": 8,
      "outputs": [
        {
          "output_type": "stream",
          "text": [
            "0.13392032576279944\n"
          ],
          "name": "stdout"
        }
      ]
    },
    {
      "cell_type": "code",
      "metadata": {
        "id": "45UDC7Qa7_hz",
        "colab_type": "code",
        "colab": {
          "base_uri": "https://localhost:8080/",
          "height": 34
        },
        "outputId": "c7c95671-306e-4730-b233-497730fe06b9"
      },
      "source": [
        "# Second\n",
        "P_driver=prior1\n",
        "P_nondriver=1-P_non_driver\n",
        "\n",
        "num = P_pos_given_driver*P_driver\n",
        "den = (P_pos_given_driver * P_driver) + (P_pos_given_nondriver*P_non_driver)\n",
        "prior2=num/den\n",
        "print(prior2)"
      ],
      "execution_count": 9,
      "outputs": [
        {
          "output_type": "stream",
          "text": [
            "0.6262631956114275\n"
          ],
          "name": "stdout"
        }
      ]
    },
    {
      "cell_type": "code",
      "metadata": {
        "id": "mMbk8ukhB0HZ",
        "colab_type": "code",
        "colab": {
          "base_uri": "https://localhost:8080/",
          "height": 34
        },
        "outputId": "83c0fbb6-a8c7-4261-b25b-afc5f926bcf2"
      },
      "source": [
        "# Third\n",
        "P_driver=prior2\n",
        "P_nondriver=1-P_non_driver\n",
        "\n",
        "num = P_pos_given_driver*P_driver\n",
        "den = (P_pos_given_driver * P_driver) + (P_pos_given_nondriver*P_non_driver)\n",
        "prior3=num/den\n",
        "print(prior3)"
      ],
      "execution_count": 10,
      "outputs": [
        {
          "output_type": "stream",
          "text": [
            "0.8868282331034462\n"
          ],
          "name": "stdout"
        }
      ]
    },
    {
      "cell_type": "code",
      "metadata": {
        "id": "c74p5V61CPQa",
        "colab_type": "code",
        "colab": {
          "base_uri": "https://localhost:8080/",
          "height": 34
        },
        "outputId": "3933d6d6-68ff-4023-87b6-814aa7139ca3"
      },
      "source": [
        "P_driver=prior3\n",
        "P_nondriver=1-P_non_driver\n",
        "\n",
        "num = P_pos_given_driver*P_driver\n",
        "den = (P_pos_given_driver * P_driver) + (P_pos_given_nondriver*P_non_driver)\n",
        "prior4=num/den\n",
        "print(prior4)"
      ],
      "execution_count": 11,
      "outputs": [
        {
          "output_type": "stream",
          "text": [
            "0.9173311134550083\n"
          ],
          "name": "stdout"
        }
      ]
    },
    {
      "cell_type": "code",
      "metadata": {
        "id": "NOZxcZNZCWL3",
        "colab_type": "code",
        "colab": {
          "base_uri": "https://localhost:8080/",
          "height": 34
        },
        "outputId": "9a2a3103-5d10-42dd-a314-8a2c34aa85dc"
      },
      "source": [
        "P_driver=prior4\n",
        "P_nondriver=1-P_non_driver\n",
        "\n",
        "num = P_pos_given_driver*P_driver\n",
        "den = (P_pos_given_driver * P_driver) + (P_pos_given_nondriver*P_non_driver)\n",
        "prior5=num/den\n",
        "print(prior5)"
      ],
      "execution_count": 12,
      "outputs": [
        {
          "output_type": "stream",
          "text": [
            "0.9198597034170114\n"
          ],
          "name": "stdout"
        }
      ]
    },
    {
      "cell_type": "code",
      "metadata": {
        "id": "vwjxHOm6CgUu",
        "colab_type": "code",
        "colab": {
          "base_uri": "https://localhost:8080/",
          "height": 34
        },
        "outputId": "a6f32632-1994-4083-996c-9620e521eb1e"
      },
      "source": [
        "P_driver=prior5\n",
        "P_nondriver=1-P_non_driver\n",
        "\n",
        "num = P_pos_given_driver*P_driver\n",
        "den = (P_pos_given_driver * P_driver) + (P_pos_given_nondriver*P_non_driver)\n",
        "prior6=num/den\n",
        "print(prior6)"
      ],
      "execution_count": 13,
      "outputs": [
        {
          "output_type": "stream",
          "text": [
            "0.9200623900176687\n"
          ],
          "name": "stdout"
        }
      ]
    },
    {
      "cell_type": "code",
      "metadata": {
        "id": "GeVRwecOCopK",
        "colab_type": "code",
        "colab": {
          "base_uri": "https://localhost:8080/",
          "height": 34
        },
        "outputId": "9a8fbe70-0e64-469a-8eda-7542d9f8621d"
      },
      "source": [
        "P_driver=prior6\n",
        "P_nondriver=1-P_non_driver\n",
        "\n",
        "num = P_pos_given_driver*P_driver\n",
        "den = (P_pos_given_driver * P_driver) + (P_pos_given_nondriver*P_non_driver)\n",
        "prior7=num/den\n",
        "print(prior7)"
      ],
      "execution_count": 14,
      "outputs": [
        {
          "output_type": "stream",
          "text": [
            "0.9200785925854276\n"
          ],
          "name": "stdout"
        }
      ]
    },
    {
      "cell_type": "code",
      "metadata": {
        "id": "AGEZEbGuCwOs",
        "colab_type": "code",
        "colab": {
          "base_uri": "https://localhost:8080/",
          "height": 34
        },
        "outputId": "d522efd7-4d44-47d4-9a8e-4d302718a547"
      },
      "source": [
        "P_driver=prior7\n",
        "P_nondriver=1-P_non_driver\n",
        "\n",
        "num = P_pos_given_driver*P_driver\n",
        "den = (P_pos_given_driver * P_driver) + (P_pos_given_nondriver*P_non_driver)\n",
        "prior8=num/den\n",
        "print(prior8)"
      ],
      "execution_count": 15,
      "outputs": [
        {
          "output_type": "stream",
          "text": [
            "0.9200798875192691\n"
          ],
          "name": "stdout"
        }
      ]
    },
    {
      "cell_type": "code",
      "metadata": {
        "id": "PxB-2f_AC3K4",
        "colab_type": "code",
        "colab": {
          "base_uri": "https://localhost:8080/",
          "height": 34
        },
        "outputId": "d3f766de-3bb7-4153-f021-3389760c32b9"
      },
      "source": [
        "P_driver=prior8\n",
        "P_nondriver=1-P_non_driver\n",
        "\n",
        "num = P_pos_given_driver*P_driver\n",
        "den = (P_pos_given_driver * P_driver) + (P_pos_given_nondriver*P_non_driver)\n",
        "prior9=num/den\n",
        "print(prior9)"
      ],
      "execution_count": 16,
      "outputs": [
        {
          "output_type": "stream",
          "text": [
            "0.920079991010539\n"
          ],
          "name": "stdout"
        }
      ]
    },
    {
      "cell_type": "code",
      "metadata": {
        "id": "G_bataGgDDU7",
        "colab_type": "code",
        "colab": {
          "base_uri": "https://localhost:8080/",
          "height": 34
        },
        "outputId": "360bc26a-3408-41c7-a485-2a0e246ca8f2"
      },
      "source": [
        "P_driver=prior9\n",
        "P_nondriver=1-P_non_driver\n",
        "\n",
        "num = P_pos_given_driver*P_driver\n",
        "den = (P_pos_given_driver * P_driver) + (P_pos_given_nondriver*P_non_driver)\n",
        "prior10=num/den\n",
        "print(prior10)"
      ],
      "execution_count": 17,
      "outputs": [
        {
          "output_type": "stream",
          "text": [
            "0.9200799992815623\n"
          ],
          "name": "stdout"
        }
      ]
    },
    {
      "cell_type": "code",
      "metadata": {
        "id": "2d1b6sSADVEx",
        "colab_type": "code",
        "colab": {
          "base_uri": "https://localhost:8080/",
          "height": 34
        },
        "outputId": "ead4fef8-b66b-45bc-c140-af46fb10ba15"
      },
      "source": [
        "P_driver=prior10\n",
        "P_nondriver=1-P_non_driver\n",
        "\n",
        "num = P_pos_given_driver*P_driver\n",
        "den = (P_pos_given_driver * P_driver) + (P_pos_given_nondriver*P_non_driver)\n",
        "prior11=num/den\n",
        "print(prior11)"
      ],
      "execution_count": 18,
      "outputs": [
        {
          "output_type": "stream",
          "text": [
            "0.9200799999425825\n"
          ],
          "name": "stdout"
        }
      ]
    },
    {
      "cell_type": "code",
      "metadata": {
        "id": "ERP3VjqGD4qv",
        "colab_type": "code",
        "colab": {}
      },
      "source": [
        "# Mine keeps going on and the sample is actually going at a slower pace to get to 95%. I feel I'm getting stuck, but still working on it."
      ],
      "execution_count": 0,
      "outputs": []
    },
    {
      "cell_type": "markdown",
      "metadata": {
        "id": "uWgWjp3PQ3Sq",
        "colab_type": "text"
      },
      "source": [
        "## Resources"
      ]
    },
    {
      "cell_type": "markdown",
      "metadata": {
        "id": "QRgHqmYIQ9qn",
        "colab_type": "text"
      },
      "source": [
        "- [Worked example of Bayes rule calculation](https://en.wikipedia.org/wiki/Bayes'_theorem#Examples) (helpful as it fully breaks out the denominator)\n",
        "- [Source code for mvsdist in scipy](https://github.com/scipy/scipy/blob/90534919e139d2a81c24bf08341734ff41a3db12/scipy/stats/morestats.py#L139)"
      ]
    },
    {
      "cell_type": "markdown",
      "metadata": {
        "id": "GP7Jv1XvwtkX",
        "colab_type": "text"
      },
      "source": [
        "## Stretch Goals:\n",
        "\n",
        "- Go back and study the content from Modules 1 & 2 to make sure that you're really comfortable with them.\n",
        "- Apply a Bayesian technique to a problem you previously worked (in an assignment or project work) on from a frequentist (standard) perspective\n",
        "- Check out [PyMC3](https://docs.pymc.io/) (note this goes beyond hypothesis tests into modeling) - read the guides and work through some examples\n",
        "- Take PyMC3 further - see if you can build something with it!"
      ]
    },
    {
      "cell_type": "code",
      "metadata": {
        "id": "iDi0eFr1x-v_",
        "colab_type": "code",
        "colab": {}
      },
      "source": [
        ""
      ],
      "execution_count": 0,
      "outputs": []
    }
  ]
}